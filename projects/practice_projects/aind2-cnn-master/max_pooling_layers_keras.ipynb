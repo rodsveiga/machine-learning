{
 "cells": [
  {
   "cell_type": "markdown",
   "metadata": {},
   "source": [
    "# Max Pooling Layers in Keras\n",
    "\n",
    "Max pooling with 2x2 window and stride 2:\n",
    "\n",
    "<img src='conv-visualization/images/maxpool.jpeg'>\n",
    "\n",
    "Image source: http://cs231n.github.io/convolutional-networks/\n",
    "\n",
    "To create a max pooling layer in Keras, we must first import the necessary module:"
   ]
  },
  {
   "cell_type": "code",
   "execution_count": 2,
   "metadata": {},
   "outputs": [],
   "source": [
    "from keras.layers import MaxPooling2D"
   ]
  },
  {
   "cell_type": "markdown",
   "metadata": {},
   "source": [
    "Then, we can create a convolutional layer by using the following format:"
   ]
  },
  {
   "cell_type": "code",
   "execution_count": null,
   "metadata": {
    "collapsed": true
   },
   "outputs": [],
   "source": [
    "MaxPooling2D(pool_size, strides, padding)"
   ]
  },
  {
   "cell_type": "markdown",
   "metadata": {},
   "source": [
    "## Arguments\n",
    "\n",
    "We must include the following argument:\n",
    "\n",
    "- `pool_size` - Number specifying the height and width of the pooling window.\n",
    "\n",
    "There are some additional, optional arguments that we might like to tune:\n",
    "\n",
    "- `strides` - The vertical and horizontal stride. If you we do not specify anything, `strides` will default to `pool_size`.\n",
    "- `padding` - One of `valid` or `same`. If we do not specify anything, `padding` is set to `valid`.\n",
    "\n",
    "NOTE: It is possible to represent both `pool_size` and `strides` as either a number or a tuple.\n",
    "\n",
    "We recommend perusing the official [documentation](https://keras.io/layers/pooling/).\n",
    "\n",
    "### Example\n",
    "\n",
    "Say we are constructing a CNN, and we would like to reduce the dimensionality of a convolutional layer by following it with a max pooling layer. Say the convolutional layer has size `(100, 100, 15)`, and we would like the max pooling layer to have size `(50, 50, 15)`. We can do this by using a 2x2 window in our max pooling layer, with a stride of 2, which could be constructed in the following line of code:"
   ]
  },
  {
   "cell_type": "code",
   "execution_count": null,
   "metadata": {
    "collapsed": true
   },
   "outputs": [],
   "source": [
    "MaxPooling2D(pool_size=2, strides=2)"
   ]
  },
  {
   "cell_type": "markdown",
   "metadata": {},
   "source": [
    "If we would instead like to use a stride of 1, but still keep the size of the window at 2x2, then we would use:"
   ]
  },
  {
   "cell_type": "code",
   "execution_count": null,
   "metadata": {
    "collapsed": true
   },
   "outputs": [],
   "source": [
    "MaxPooling2D(pool_size=2, strides=1)"
   ]
  },
  {
   "cell_type": "markdown",
   "metadata": {},
   "source": [
    "## Checking the Dimensionality of Max Pooling Layers\n",
    "\n",
    "We can change the arguments in the code below and check how the shape of the max pooling layer changes."
   ]
  },
  {
   "cell_type": "code",
   "execution_count": 3,
   "metadata": {},
   "outputs": [
    {
     "name": "stdout",
     "output_type": "stream",
     "text": [
      "_________________________________________________________________\n",
      "Layer (type)                 Output Shape              Param #   \n",
      "=================================================================\n",
      "max_pooling2d_1 (MaxPooling2 (None, 50, 50, 15)        0         \n",
      "=================================================================\n",
      "Total params: 0\n",
      "Trainable params: 0\n",
      "Non-trainable params: 0\n",
      "_________________________________________________________________\n"
     ]
    }
   ],
   "source": [
    "from keras.models import Sequential\n",
    "from keras.layers import MaxPooling2D\n",
    "\n",
    "model = Sequential()\n",
    "model.add(MaxPooling2D(pool_size=2, strides=2, input_shape=(100, 100, 15)))\n",
    "model.summary()"
   ]
  }
 ],
 "metadata": {
  "kernelspec": {
   "display_name": "Python 3",
   "language": "python",
   "name": "python3"
  },
  "language_info": {
   "codemirror_mode": {
    "name": "ipython",
    "version": 3
   },
   "file_extension": ".py",
   "mimetype": "text/x-python",
   "name": "python",
   "nbconvert_exporter": "python",
   "pygments_lexer": "ipython3",
   "version": "3.6.3"
  },
  "latex_envs": {
   "LaTeX_envs_menu_present": true,
   "autocomplete": true,
   "bibliofile": "biblio.bib",
   "cite_by": "apalike",
   "current_citInitial": 1,
   "eqLabelWithNumbers": true,
   "eqNumInitial": 1,
   "hotkeys": {
    "equation": "Ctrl-E",
    "itemize": "Ctrl-I"
   },
   "labels_anchors": false,
   "latex_user_defs": false,
   "report_style_numbering": false,
   "user_envs_cfg": false
  }
 },
 "nbformat": 4,
 "nbformat_minor": 2
}
